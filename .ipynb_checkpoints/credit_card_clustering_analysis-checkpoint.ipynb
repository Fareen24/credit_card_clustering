{
 "cells": [
  {
   "cell_type": "markdown",
   "id": "8273c57a-9464-4f12-8642-518c19fc9f54",
   "metadata": {},
   "source": [
    "# Overview\n",
    "In this checkpoint, we are going to work on the 'Credit Card Dataset for Clustering' dataset provided by Kaggle.\n",
    "\n",
    "Dataset description : This dataset was derived and simplified for learning purposes. It includes usage behaviour of about 9000 active credit card holders during 6 months period. This case requires to develop a customer segmentation to define marketing strategy.\n",
    "\n",
    "\n",
    "\n",
    "Columns explanation : \n",
    "\n",
    "CUST_ID: Identification of Credit Card holder (Categorical)\n",
    "BALANCE_FREQUENCY: How frequently the Balance is updated, score between 0 and 1 (1 = frequently updated, 0 = not frequently updated)\n",
    "PURCHASES: Amount of purchases made from account \n",
    "CASH_ADVANCE: Cash in advance given by the user\n",
    "CREDIT_LIMIT: Limit of Credit Card for user \n",
    "PAYMENTS: Amount of Payment done by user \n",
    "\n",
    "Instructions\n",
    "\n",
    "1. Import you data and perform basic data exploration phase\n",
    "\n",
    "2. Perform the necessary data preparation steps ( Corrupted and missing values handling, data encoding, outliers handling ... )\n",
    "\n",
    "3. Perform hierarchical clustering to identify the inherent groupings within your data. Then, plot the clusters. (use only 2 features. For example, try to cluster the customer base with respect to 'PURCHASES' and 'credit limit')\n",
    "\n",
    "4. Perform partitional clustering using the K-means algorithm. Then, plot the clusters\n",
    "\n",
    "5. Find the best k value and plot the clusters again.\n",
    "\n",
    "6. Interpret the results"
   ]
  },
  {
   "cell_type": "markdown",
   "id": "6dda96c5-3289-48ef-bb79-e68747a170b2",
   "metadata": {},
   "source": [
    "# Import necessary libraries and load data"
   ]
  },
  {
   "cell_type": "code",
   "execution_count": 1,
   "id": "3e5dbcd7-4596-4a10-bfc6-d8535fbed658",
   "metadata": {},
   "outputs": [],
   "source": [
    "import pandas as pd\n",
    "import numpy as np\n",
    "import seaborn as sns\n",
    "import matplotlib.pyplot as plt\n",
    "from sklearn.model_selection import train_test_split\n",
    "from sklearn.preprocessing import StandardScaler\n",
    "from sklearn.cluster import AgglomerativeClustering\n",
    "from sklearn.preprocessing import RobustScaler, LabelEncoder\n",
    "import scipy.cluster.hierarchy as shc\n",
    "from scipy.cluster.hierarchy import fcluster\n",
    "\n",
    "%matplotlib inline"
   ]
  },
  {
   "cell_type": "code",
   "execution_count": 2,
   "id": "2cf4b74f-2e6f-4699-b86e-56da06626a84",
   "metadata": {},
   "outputs": [
    {
     "data": {
      "text/html": [
       "<div>\n",
       "<style scoped>\n",
       "    .dataframe tbody tr th:only-of-type {\n",
       "        vertical-align: middle;\n",
       "    }\n",
       "\n",
       "    .dataframe tbody tr th {\n",
       "        vertical-align: top;\n",
       "    }\n",
       "\n",
       "    .dataframe thead th {\n",
       "        text-align: right;\n",
       "    }\n",
       "</style>\n",
       "<table border=\"1\" class=\"dataframe\">\n",
       "  <thead>\n",
       "    <tr style=\"text-align: right;\">\n",
       "      <th></th>\n",
       "      <th>CUST_ID</th>\n",
       "      <th>BALANCE_FREQUENCY</th>\n",
       "      <th>PURCHASES</th>\n",
       "      <th>PAYMENTS</th>\n",
       "      <th>CREDIT_LIMIT</th>\n",
       "      <th>CASH_ADVANCE</th>\n",
       "    </tr>\n",
       "  </thead>\n",
       "  <tbody>\n",
       "    <tr>\n",
       "      <th>0</th>\n",
       "      <td>C10001</td>\n",
       "      <td>0.818182</td>\n",
       "      <td>95.40</td>\n",
       "      <td>201.802084</td>\n",
       "      <td>1000.0</td>\n",
       "      <td>0.000000</td>\n",
       "    </tr>\n",
       "    <tr>\n",
       "      <th>1</th>\n",
       "      <td>C10002</td>\n",
       "      <td>0.909091</td>\n",
       "      <td>0.00</td>\n",
       "      <td>4103.032597</td>\n",
       "      <td>7000.0</td>\n",
       "      <td>6442.945483</td>\n",
       "    </tr>\n",
       "    <tr>\n",
       "      <th>2</th>\n",
       "      <td>C10003</td>\n",
       "      <td>1.000000</td>\n",
       "      <td>773.17</td>\n",
       "      <td>622.066742</td>\n",
       "      <td>7500.0</td>\n",
       "      <td>0.000000</td>\n",
       "    </tr>\n",
       "    <tr>\n",
       "      <th>3</th>\n",
       "      <td>C10004</td>\n",
       "      <td>0.636364</td>\n",
       "      <td>1499.00</td>\n",
       "      <td>0.000000</td>\n",
       "      <td>7500.0</td>\n",
       "      <td>205.788017</td>\n",
       "    </tr>\n",
       "    <tr>\n",
       "      <th>4</th>\n",
       "      <td>C10005</td>\n",
       "      <td>1.000000</td>\n",
       "      <td>16.00</td>\n",
       "      <td>678.334763</td>\n",
       "      <td>1200.0</td>\n",
       "      <td>0.000000</td>\n",
       "    </tr>\n",
       "  </tbody>\n",
       "</table>\n",
       "</div>"
      ],
      "text/plain": [
       "  CUST_ID  BALANCE_FREQUENCY  PURCHASES     PAYMENTS  CREDIT_LIMIT  \\\n",
       "0  C10001           0.818182      95.40   201.802084        1000.0   \n",
       "1  C10002           0.909091       0.00  4103.032597        7000.0   \n",
       "2  C10003           1.000000     773.17   622.066742        7500.0   \n",
       "3  C10004           0.636364    1499.00     0.000000        7500.0   \n",
       "4  C10005           1.000000      16.00   678.334763        1200.0   \n",
       "\n",
       "   CASH_ADVANCE  \n",
       "0      0.000000  \n",
       "1   6442.945483  \n",
       "2      0.000000  \n",
       "3    205.788017  \n",
       "4      0.000000  "
      ]
     },
     "execution_count": 2,
     "metadata": {},
     "output_type": "execute_result"
    }
   ],
   "source": [
    "credit_df = pd.read_csv('Credit_card_dataset.csv')\n",
    "credit_df.head()"
   ]
  },
  {
   "cell_type": "markdown",
   "id": "808a9a3c-8b12-4cbc-9036-77ecc307ace2",
   "metadata": {},
   "source": [
    "# check for missing values"
   ]
  },
  {
   "cell_type": "code",
   "execution_count": 3,
   "id": "e5ff6a8b-b508-44e3-8037-31a233028ca9",
   "metadata": {},
   "outputs": [
    {
     "data": {
      "text/plain": [
       "CUST_ID              0\n",
       "BALANCE_FREQUENCY    0\n",
       "PURCHASES            0\n",
       "PAYMENTS             0\n",
       "CREDIT_LIMIT         1\n",
       "CASH_ADVANCE         0\n",
       "dtype: int64"
      ]
     },
     "execution_count": 3,
     "metadata": {},
     "output_type": "execute_result"
    }
   ],
   "source": [
    "#check for missing values/null values\n",
    "credit_df.isnull().sum()"
   ]
  },
  {
   "cell_type": "code",
   "execution_count": 4,
   "id": "c67021a1-9283-48d3-a17f-d8dd3d45eb4a",
   "metadata": {},
   "outputs": [],
   "source": [
    "# change column names to lower case for better readability\n",
    "credit_df.columns = credit_df.columns.str.lower()"
   ]
  },
  {
   "cell_type": "code",
   "execution_count": 5,
   "id": "16c65a76-7670-4bd6-a57c-a5ba2f2323ba",
   "metadata": {},
   "outputs": [
    {
     "data": {
      "text/plain": [
       "0       1000.0\n",
       "1       7000.0\n",
       "2       7500.0\n",
       "3       7500.0\n",
       "4       1200.0\n",
       "         ...  \n",
       "8945    1000.0\n",
       "8946    1000.0\n",
       "8947    1000.0\n",
       "8948     500.0\n",
       "8949    1200.0\n",
       "Name: credit_limit, Length: 8950, dtype: float64"
      ]
     },
     "execution_count": 5,
     "metadata": {},
     "output_type": "execute_result"
    }
   ],
   "source": [
    "credit_df.credit_limit"
   ]
  },
  {
   "cell_type": "code",
   "execution_count": 6,
   "id": "2aa1ff01-f3b7-40b1-b796-33c6f78b6395",
   "metadata": {},
   "outputs": [
    {
     "data": {
      "text/html": [
       "<div>\n",
       "<style scoped>\n",
       "    .dataframe tbody tr th:only-of-type {\n",
       "        vertical-align: middle;\n",
       "    }\n",
       "\n",
       "    .dataframe tbody tr th {\n",
       "        vertical-align: top;\n",
       "    }\n",
       "\n",
       "    .dataframe thead th {\n",
       "        text-align: right;\n",
       "    }\n",
       "</style>\n",
       "<table border=\"1\" class=\"dataframe\">\n",
       "  <thead>\n",
       "    <tr style=\"text-align: right;\">\n",
       "      <th></th>\n",
       "      <th>cust_id</th>\n",
       "      <th>balance_frequency</th>\n",
       "      <th>purchases</th>\n",
       "      <th>payments</th>\n",
       "      <th>credit_limit</th>\n",
       "      <th>cash_advance</th>\n",
       "    </tr>\n",
       "  </thead>\n",
       "  <tbody>\n",
       "    <tr>\n",
       "      <th>5203</th>\n",
       "      <td>C15349</td>\n",
       "      <td>0.166667</td>\n",
       "      <td>0.0</td>\n",
       "      <td>9.040017</td>\n",
       "      <td>NaN</td>\n",
       "      <td>186.853063</td>\n",
       "    </tr>\n",
       "  </tbody>\n",
       "</table>\n",
       "</div>"
      ],
      "text/plain": [
       "     cust_id  balance_frequency  purchases  payments  credit_limit  \\\n",
       "5203  C15349           0.166667        0.0  9.040017           NaN   \n",
       "\n",
       "      cash_advance  \n",
       "5203    186.853063  "
      ]
     },
     "execution_count": 6,
     "metadata": {},
     "output_type": "execute_result"
    }
   ],
   "source": [
    "# check the row with the missing value in credit limit column\n",
    "null_mask = credit_df.credit_limit.isnull()\n",
    "null_rows = credit_df[null_mask]\n",
    "null_rows"
   ]
  },
  {
   "cell_type": "code",
   "execution_count": 7,
   "id": "77deceb9-3dce-445c-b31c-7e85b3a03964",
   "metadata": {},
   "outputs": [
    {
     "data": {
      "text/plain": [
       "np.float64(4494.0)"
      ]
     },
     "execution_count": 7,
     "metadata": {},
     "output_type": "execute_result"
    }
   ],
   "source": [
    "# find the mean or median and replace the missing value\n",
    "mean_credit_limit = credit_df.credit_limit.mean().round(0)\n",
    "mean_credit_limit"
   ]
  },
  {
   "cell_type": "code",
   "execution_count": 8,
   "id": "bfde8b30-02f1-4640-bc1f-51f52d36f88a",
   "metadata": {},
   "outputs": [
    {
     "data": {
      "text/plain": [
       "np.float64(3000.0)"
      ]
     },
     "execution_count": 8,
     "metadata": {},
     "output_type": "execute_result"
    }
   ],
   "source": [
    "# check the median value for the credit limit column\n",
    "median_credit_limit = credit_df.credit_limit.median().round(0)\n",
    "median_credit_limit"
   ]
  },
  {
   "cell_type": "code",
   "execution_count": 9,
   "id": "279f2648-783f-493f-91d2-80e49a992897",
   "metadata": {},
   "outputs": [],
   "source": [
    "# fill the missing value with the median\n",
    "credit_df['credit_limit'] = credit_df['credit_limit'].fillna(median_credit_limit)"
   ]
  },
  {
   "cell_type": "code",
   "execution_count": 10,
   "id": "0118008a-b741-4ec0-b190-a3e1fa0a9162",
   "metadata": {},
   "outputs": [
    {
     "data": {
      "text/plain": [
       "cust_id              0\n",
       "balance_frequency    0\n",
       "purchases            0\n",
       "payments             0\n",
       "credit_limit         0\n",
       "cash_advance         0\n",
       "dtype: int64"
      ]
     },
     "execution_count": 10,
     "metadata": {},
     "output_type": "execute_result"
    }
   ],
   "source": [
    "#check the missing value has been filled\n",
    "credit_df.isnull().sum()"
   ]
  },
  {
   "cell_type": "markdown",
   "id": "2e5db04c-9dee-4b69-bf0b-3be352dad942",
   "metadata": {},
   "source": [
    "# Feature Selection"
   ]
  },
  {
   "cell_type": "code",
   "execution_count": 11,
   "id": "f9eccf5b-a8c4-42c5-b173-f8508fa49b5d",
   "metadata": {},
   "outputs": [
    {
     "data": {
      "text/html": [
       "<div>\n",
       "<style scoped>\n",
       "    .dataframe tbody tr th:only-of-type {\n",
       "        vertical-align: middle;\n",
       "    }\n",
       "\n",
       "    .dataframe tbody tr th {\n",
       "        vertical-align: top;\n",
       "    }\n",
       "\n",
       "    .dataframe thead th {\n",
       "        text-align: right;\n",
       "    }\n",
       "</style>\n",
       "<table border=\"1\" class=\"dataframe\">\n",
       "  <thead>\n",
       "    <tr style=\"text-align: right;\">\n",
       "      <th></th>\n",
       "      <th>purchases</th>\n",
       "      <th>credit_limit</th>\n",
       "    </tr>\n",
       "  </thead>\n",
       "  <tbody>\n",
       "    <tr>\n",
       "      <th>0</th>\n",
       "      <td>95.40</td>\n",
       "      <td>1000.0</td>\n",
       "    </tr>\n",
       "    <tr>\n",
       "      <th>1</th>\n",
       "      <td>0.00</td>\n",
       "      <td>7000.0</td>\n",
       "    </tr>\n",
       "    <tr>\n",
       "      <th>2</th>\n",
       "      <td>773.17</td>\n",
       "      <td>7500.0</td>\n",
       "    </tr>\n",
       "    <tr>\n",
       "      <th>3</th>\n",
       "      <td>1499.00</td>\n",
       "      <td>7500.0</td>\n",
       "    </tr>\n",
       "    <tr>\n",
       "      <th>4</th>\n",
       "      <td>16.00</td>\n",
       "      <td>1200.0</td>\n",
       "    </tr>\n",
       "    <tr>\n",
       "      <th>...</th>\n",
       "      <td>...</td>\n",
       "      <td>...</td>\n",
       "    </tr>\n",
       "    <tr>\n",
       "      <th>8945</th>\n",
       "      <td>291.12</td>\n",
       "      <td>1000.0</td>\n",
       "    </tr>\n",
       "    <tr>\n",
       "      <th>8946</th>\n",
       "      <td>300.00</td>\n",
       "      <td>1000.0</td>\n",
       "    </tr>\n",
       "    <tr>\n",
       "      <th>8947</th>\n",
       "      <td>144.40</td>\n",
       "      <td>1000.0</td>\n",
       "    </tr>\n",
       "    <tr>\n",
       "      <th>8948</th>\n",
       "      <td>0.00</td>\n",
       "      <td>500.0</td>\n",
       "    </tr>\n",
       "    <tr>\n",
       "      <th>8949</th>\n",
       "      <td>1093.25</td>\n",
       "      <td>1200.0</td>\n",
       "    </tr>\n",
       "  </tbody>\n",
       "</table>\n",
       "<p>8950 rows × 2 columns</p>\n",
       "</div>"
      ],
      "text/plain": [
       "      purchases  credit_limit\n",
       "0         95.40        1000.0\n",
       "1          0.00        7000.0\n",
       "2        773.17        7500.0\n",
       "3       1499.00        7500.0\n",
       "4         16.00        1200.0\n",
       "...         ...           ...\n",
       "8945     291.12        1000.0\n",
       "8946     300.00        1000.0\n",
       "8947     144.40        1000.0\n",
       "8948       0.00         500.0\n",
       "8949    1093.25        1200.0\n",
       "\n",
       "[8950 rows x 2 columns]"
      ]
     },
     "execution_count": 11,
     "metadata": {},
     "output_type": "execute_result"
    }
   ],
   "source": [
    "# drop unnecessary columns such as the customer ID\n",
    "new_df = credit_df.drop(['cust_id', 'balance_frequency', 'cash_advance','payments',], axis=1)\n",
    "new_df"
   ]
  },
  {
   "cell_type": "code",
   "execution_count": 12,
   "id": "6c574090-3875-444a-b4c8-2fb5be484f94",
   "metadata": {},
   "outputs": [
    {
     "data": {
      "text/plain": [
       "<Axes: >"
      ]
     },
     "execution_count": 12,
     "metadata": {},
     "output_type": "execute_result"
    },
    {
     "data": {
      "image/png": "[encoded data removed]",
      "text/plain": [
       "<Figure size 640x480 with 1 Axes>"
      ]
     },
     "metadata": {},
     "output_type": "display_data"
    }
   ],
   "source": [
    "new_df['purchases'].hist()"
   ]
  },
  {
   "cell_type": "code",
   "execution_count": 13,
   "id": "4b47bf0f-ddc8-4bc2-a0e9-b9e853278f4a",
   "metadata": {},
   "outputs": [
    {
     "data": {
      "text/plain": [
       "<Axes: >"
      ]
     },
     "execution_count": 13,
     "metadata": {},
     "output_type": "execute_result"
    },
    {
     "data": {
      "image/png": "[encoded data removed]",
      "text/plain": [
       "<Figure size 640x480 with 1 Axes>"
      ]
     },
     "metadata": {},
     "output_type": "display_data"
    }
   ],
   "source": [
    "new_df['credit_limit'].hist()"
   ]
  },
  {
   "cell_type": "markdown",
   "id": "ad9addd2-2e89-4d89-9882-694e6bcf121f",
   "metadata": {},
   "source": [
    "# Hierarchical clustering"
   ]
  },
  {
   "cell_type": "code",
   "execution_count": 14,
   "id": "9103a878-b88e-450d-b59a-b29936b695ef",
   "metadata": {},
   "outputs": [
    {
     "data": {
      "text/plain": [
       "<matplotlib.collections.PathCollection at 0x7d17b6d4d730>"
      ]
     },
     "execution_count": 14,
     "metadata": {},
     "output_type": "execute_result"
    },
    {
     "data": {
      "image/png": "[encoded data removed]",
      "text/plain": [
       "<Figure size 1200x500 with 1 Axes>"
      ]
     },
     "metadata": {},
     "output_type": "display_data"
    }
   ],
   "source": [
    "plt.figure(figsize =(12,5))\n",
    "plt.scatter(new_df['purchases'], new_df['credit_limit'], s=100, c='blue')\n"
   ]
  },
  {
   "cell_type": "markdown",
   "id": "04e21c01-1ba3-40d3-9ee7-fae0ea067086",
   "metadata": {},
   "source": [
    "### Use a dendogram to know how many clusters we need"
   ]
  },
  {
   "cell_type": "code",
   "execution_count": 19,
   "id": "4d763437-57e2-4141-b515-5d6d7588ab2d",
   "metadata": {},
   "outputs": [
    {
     "data": {
      "text/html": [
       "<div>\n",
       "<style scoped>\n",
       "    .dataframe tbody tr th:only-of-type {\n",
       "        vertical-align: middle;\n",
       "    }\n",
       "\n",
       "    .dataframe tbody tr th {\n",
       "        vertical-align: top;\n",
       "    }\n",
       "\n",
       "    .dataframe thead th {\n",
       "        text-align: right;\n",
       "    }\n",
       "</style>\n",
       "<table border=\"1\" class=\"dataframe\">\n",
       "  <thead>\n",
       "    <tr style=\"text-align: right;\">\n",
       "      <th></th>\n",
       "      <th>purchases</th>\n",
       "      <th>credit_limit</th>\n",
       "    </tr>\n",
       "  </thead>\n",
       "  <tbody>\n",
       "    <tr>\n",
       "      <th>0</th>\n",
       "      <td>0.094969</td>\n",
       "      <td>0.995480</td>\n",
       "    </tr>\n",
       "    <tr>\n",
       "      <th>1</th>\n",
       "      <td>0.000000</td>\n",
       "      <td>1.000000</td>\n",
       "    </tr>\n",
       "    <tr>\n",
       "      <th>2</th>\n",
       "      <td>0.102546</td>\n",
       "      <td>0.994728</td>\n",
       "    </tr>\n",
       "    <tr>\n",
       "      <th>3</th>\n",
       "      <td>0.195990</td>\n",
       "      <td>0.980606</td>\n",
       "    </tr>\n",
       "    <tr>\n",
       "      <th>4</th>\n",
       "      <td>0.013332</td>\n",
       "      <td>0.999911</td>\n",
       "    </tr>\n",
       "  </tbody>\n",
       "</table>\n",
       "</div>"
      ],
      "text/plain": [
       "   purchases  credit_limit\n",
       "0   0.094969      0.995480\n",
       "1   0.000000      1.000000\n",
       "2   0.102546      0.994728\n",
       "3   0.195990      0.980606\n",
       "4   0.013332      0.999911"
      ]
     },
     "execution_count": 19,
     "metadata": {},
     "output_type": "execute_result"
    }
   ],
   "source": [
    "from sklearn.preprocessing import normalize\n",
    "data_scaled = normalize(new_df)\n",
    "data_scaled = pd.DataFrame(data_scaled, columns=new_df.columns)\n",
    "data_scaled.head()"
   ]
  },
  {
   "cell_type": "code",
   "execution_count": 20,
   "id": "c0026cf0-59f3-4e5a-8395-5830393d788e",
   "metadata": {},
   "outputs": [
    {
     "data": {
      "image/png": "[encoded data removed]",
      "text/plain": [
       "<Figure size 1000x700 with 1 Axes>"
      ]
     },
     "metadata": {},
     "output_type": "display_data"
    }
   ],
   "source": [
    "plt.figure(figsize=(10,7))\n",
    "\n",
    "dendogram=shc.dendrogram(shc.linkage(data_scaled, method='ward'))\n",
    "plt.title('Dendrogram')\n",
    "plt.xlabel('Customers')\n",
    "plt.ylabel('Euclidean distances')\n",
    "plt.show()"
   ]
  },
  {
   "cell_type": "code",
   "execution_count": 37,
   "id": "d6d07a63-8760-450f-a904-b1465bba4ec5",
   "metadata": {},
   "outputs": [],
   "source": [
    "clustering_model = AgglomerativeClustering(n_clusters=3, metric='euclidean', linkage='single')\n",
    "clust_labels = clustering_model.fit_predict(data_scaled)"
   ]
  },
  {
   "cell_type": "code",
   "execution_count": 38,
   "id": "a7a9c327-947d-41ad-a185-8aac112c74a3",
   "metadata": {},
   "outputs": [
    {
     "data": {
      "text/html": [
       "<div>\n",
       "<style scoped>\n",
       "    .dataframe tbody tr th:only-of-type {\n",
       "        vertical-align: middle;\n",
       "    }\n",
       "\n",
       "    .dataframe tbody tr th {\n",
       "        vertical-align: top;\n",
       "    }\n",
       "\n",
       "    .dataframe thead th {\n",
       "        text-align: right;\n",
       "    }\n",
       "</style>\n",
       "<table border=\"1\" class=\"dataframe\">\n",
       "  <thead>\n",
       "    <tr style=\"text-align: right;\">\n",
       "      <th></th>\n",
       "      <th>0</th>\n",
       "    </tr>\n",
       "  </thead>\n",
       "  <tbody>\n",
       "    <tr>\n",
       "      <th>0</th>\n",
       "      <td>2</td>\n",
       "    </tr>\n",
       "    <tr>\n",
       "      <th>1</th>\n",
       "      <td>2</td>\n",
       "    </tr>\n",
       "    <tr>\n",
       "      <th>2</th>\n",
       "      <td>2</td>\n",
       "    </tr>\n",
       "    <tr>\n",
       "      <th>3</th>\n",
       "      <td>2</td>\n",
       "    </tr>\n",
       "    <tr>\n",
       "      <th>4</th>\n",
       "      <td>2</td>\n",
       "    </tr>\n",
       "    <tr>\n",
       "      <th>...</th>\n",
       "      <td>...</td>\n",
       "    </tr>\n",
       "    <tr>\n",
       "      <th>8945</th>\n",
       "      <td>2</td>\n",
       "    </tr>\n",
       "    <tr>\n",
       "      <th>8946</th>\n",
       "      <td>2</td>\n",
       "    </tr>\n",
       "    <tr>\n",
       "      <th>8947</th>\n",
       "      <td>2</td>\n",
       "    </tr>\n",
       "    <tr>\n",
       "      <th>8948</th>\n",
       "      <td>2</td>\n",
       "    </tr>\n",
       "    <tr>\n",
       "      <th>8949</th>\n",
       "      <td>2</td>\n",
       "    </tr>\n",
       "  </tbody>\n",
       "</table>\n",
       "<p>8950 rows × 1 columns</p>\n",
       "</div>"
      ],
      "text/plain": [
       "      0\n",
       "0     2\n",
       "1     2\n",
       "2     2\n",
       "3     2\n",
       "4     2\n",
       "...  ..\n",
       "8945  2\n",
       "8946  2\n",
       "8947  2\n",
       "8948  2\n",
       "8949  2\n",
       "\n",
       "[8950 rows x 1 columns]"
      ]
     },
     "execution_count": 38,
     "metadata": {},
     "output_type": "execute_result"
    }
   ],
   "source": [
    "agglomerative=pd.DataFrame(clust_labels)\n",
    "agglomerative"
   ]
  },
  {
   "cell_type": "code",
   "execution_count": 39,
   "id": "36472699-5ae4-4f78-a398-579fe6e511bf",
   "metadata": {},
   "outputs": [
    {
     "data": {
      "text/plain": [
       "<matplotlib.colorbar.Colorbar at 0x7d17ad735370>"
      ]
     },
     "execution_count": 39,
     "metadata": {},
     "output_type": "execute_result"
    },
    {
     "data": {
      "image/png": "[encoded data removed]",
      "text/plain": [
       "<Figure size 640x480 with 2 Axes>"
      ]
     },
     "metadata": {},
     "output_type": "display_data"
    }
   ],
   "source": [
    "fig =plt.figure()\n",
    "ax = fig.add_subplot(111)\n",
    "scatter = ax.scatter (data_scaled ['purchases'] , data_scaled[\"credit_limit\"] , c= agglomerative[0], s=50)\n",
    "ax.set_title(\"Agglomerative Clutering\")\n",
    "ax.set_xlabel(\"purchases\")\n",
    "ax.set_ylabel(\"credit_limit\")\n",
    "plt.colorbar(scatter)"
   ]
  },
  {
   "cell_type": "code",
   "execution_count": 40,
   "id": "e3c33f20-92b7-439f-9ad5-ddb01ec00a4a",
   "metadata": {},
   "outputs": [],
   "source": [
    "from sklearn.metrics import silhouette_score\n",
    "silhouette = silhouette_score(data_scaled, clust_labels )"
   ]
  },
  {
   "cell_type": "code",
   "execution_count": 41,
   "id": "14b3d26c-a8cd-41de-9f1e-d5bfe11e8ac9",
   "metadata": {},
   "outputs": [
    {
     "data": {
      "text/plain": [
       "np.float64(0.7120154810651925)"
      ]
     },
     "execution_count": 41,
     "metadata": {},
     "output_type": "execute_result"
    }
   ],
   "source": [
    "silhouette"
   ]
  },
  {
   "cell_type": "code",
   "execution_count": null,
   "id": "56e4a5e0-2a62-44d9-8692-3ef7048b4ae9",
   "metadata": {},
   "outputs": [],
   "source": [
    "data_labels = clustering_model.labels_\n",
    "sns.scatterplot(x='purchases',  y='credit_limit', \n",
    "                data=new_df,  hue=data_labels, palette=\"rainbow\").set_title('Labeled Customer Data')"
   ]
  },
  {
   "cell_type": "code",
   "execution_count": null,
   "id": "d7e17083-d291-46f8-9acf-94bb677f451c",
   "metadata": {},
   "outputs": [],
   "source": [
    "rom sklearn.metrics import silhoutte_score\n",
    "silhoutte = silhouette_score(new_df, )"
   ]
  },
  {
   "cell_type": "markdown",
   "id": "45eca2a6-6402-400a-a5af-8b33ed2ffa85",
   "metadata": {},
   "source": [
    "# K-means clustering"
   ]
  },
  {
   "cell_type": "code",
   "execution_count": null,
   "id": "33511cf9-f2df-4f5c-a4ce-beaeee605738",
   "metadata": {},
   "outputs": [],
   "source": []
  }
 ],
 "metadata": {
  "kernelspec": {
   "display_name": "Python 3 (ipykernel)",
   "language": "python",
   "name": "python3"
  },
  "language_info": {
   "codemirror_mode": {
    "name": "ipython",
    "version": 3
   },
   "file_extension": ".py",
   "mimetype": "text/x-python",
   "name": "python",
   "nbconvert_exporter": "python",
   "pygments_lexer": "ipython3",
   "version": "3.12.3"
  }
 },
 "nbformat": 4,
 "nbformat_minor": 5
}
